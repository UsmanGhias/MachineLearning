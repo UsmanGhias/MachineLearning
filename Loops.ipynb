{
 "cells": [
  {
   "cell_type": "markdown",
   "id": "731cceca",
   "metadata": {
    "scrolled": true
   },
   "source": [
    "Q2: A shop has following commodities with its inventory maintained in a dictionary:\n",
    "comm = {\n",
    "'chair' : 10,\n",
    "'table' : 22,\n",
    "'sofa-set': 2,\n",
    "'tv-unit': 0,\n",
    "'fan': 10,\n",
    "'table-lamp': 0,\n",
    "'iron-box': 0,\n",
    "'bed': 30\n",
    "}\n",
    "\n",
    "and its price in another dictionary\n",
    "\n",
    "price = {\n",
    "'chair': 2365,\n",
    "'table': 37752,\n",
    "'sofa-set': 23299,\n",
    "'tv-unit': 120344\n",
    "'bed': 40226\n",
    "}\n",
    "\n",
    "Accept the number of items for each commodity sold from standard input and at the end do the following:\n",
    "\n",
    "1. Evaluate the income made by the shop owner.\n",
    "2. If user enters a commodity that is not available in the shop, display appropriate message.\n",
    "3. If user enters a quantity that is beyond the available limit, display the size of the inventory.\n",
    "4. Display the inventory available."
   ]
  },
  {
   "cell_type": "code",
   "execution_count": 1,
   "id": "df262f89",
   "metadata": {},
   "outputs": [],
   "source": [
    "comm = { 'chair' : 10, 'table' : 22, 'sofa-set': 2, 'tv-unit': 0, 'fan': 10, \n",
    "        'table-lamp': 0, 'iron-box': 0, 'bed': 30 }"
   ]
  },
  {
   "cell_type": "code",
   "execution_count": 2,
   "id": "910d0448",
   "metadata": {},
   "outputs": [],
   "source": [
    "price = { 'chair': 2365, 'table': 37752, 'sofa-set': 23299, 'tv-unit': 120344, 'bed': 40226 }"
   ]
  },
  {
   "cell_type": "code",
   "execution_count": 3,
   "id": "60a0d5f2",
   "metadata": {},
   "outputs": [],
   "source": [
    "# Evaluate the income made by the shop owner.\n",
    "# If user enters a commodity that is not available in the shop, display appropriate message.\n",
    "# If user enters a quantity that is beyond the available limit, display the size of \n",
    "# the inventory.\n",
    "# Display the inventory available."
   ]
  },
  {
   "cell_type": "code",
   "execution_count": 6,
   "id": "31a14af5",
   "metadata": {
    "scrolled": true
   },
   "outputs": [
    {
     "name": "stdout",
     "output_type": "stream",
     "text": [
      "Plz Enter What You Need: chair\n",
      "Plz Enter The Quantity:   1\n",
      "Commoditiy Found\n",
      "In-Stock & Available\n",
      "Now Cash is:  2365\n",
      "dict_items([('chair', 0), ('table', 22), ('sofa-set', 2), ('tv-unit', 0), ('fan', 10), ('table-lamp', 0), ('iron-box', 0), ('bed', 30)])\n",
      "Plz Enter What You Need: quit\n",
      "Thank You For Shopping!\n"
     ]
    }
   ],
   "source": [
    "cash = 0\n",
    "\n",
    "while True:\n",
    "    entered_commodity = input(\"Plz Enter What You Need: \")\n",
    "    if entered_commodity == \"quit\": \n",
    "        print(\"Thank You For Shopping!\")\n",
    "        break\n",
    "    \n",
    "    quantity = int(input(\"Plz Enter The Quantity:   \"))\n",
    "    if entered_commodity in comm.keys():\n",
    "        print(\"Commoditiy Found\")\n",
    "        if comm[entered_commodity]>0 and quantity<=comm[entered_commodity]:\n",
    "            print(\"In-Stock & Available\")\n",
    "            cash = cash + (price[entered_commodity] * quantity)\n",
    "            print(\"Now Cash is: \", cash)\n",
    "            comm[entered_commodity] = comm[entered_commodity] - quantity\n",
    "            print(comm.items())\n",
    "\n",
    "        else:\n",
    "            print(\"Sorry, Out Of Stock OR the Quantity is More than The Available Stock.\")\n",
    "        \n",
    "    else:\n",
    "        print(\"Sorry, We Do Not Have What You Want.\")"
   ]
  },
  {
   "cell_type": "code",
   "execution_count": null,
   "id": "426685ad",
   "metadata": {},
   "outputs": [],
   "source": []
  },
  {
   "cell_type": "markdown",
   "id": "c37bbcc4",
   "metadata": {},
   "source": [
    "Assume that we have 2 lists, each having only IP addresses as its contents.\n",
    "Write a program to determine if the 2 lists have the same IP addresses (albeit in different positions) in the most optimal manner."
   ]
  },
  {
   "cell_type": "code",
   "execution_count": 1,
   "id": "3ca419d6",
   "metadata": {},
   "outputs": [],
   "source": [
    "list_1 = ['192.168.0.1','192.168.0.2','192.168.0.3']\n",
    "list_2 = ['192.168.0.3','192.168.0.2', '192.168.0.1']\n"
   ]
  },
  {
   "cell_type": "code",
   "execution_count": 2,
   "id": "cfd82c80",
   "metadata": {},
   "outputs": [],
   "source": [
    "# check: not even one different ip"
   ]
  },
  {
   "cell_type": "code",
   "execution_count": 5,
   "id": "ec016cdd",
   "metadata": {},
   "outputs": [
    {
     "name": "stdout",
     "output_type": "stream",
     "text": [
      "found\n",
      "found\n",
      "found\n"
     ]
    }
   ],
   "source": [
    "for ip_address in list_1:\n",
    "    \n",
    "    if ip_address in list_2:\n",
    "        print(\"found\")\n",
    "    else:\n",
    "        print(\"Not Found. hence Both Lists Do NOt Contain Similar IP-Addresses.\")\n",
    "        \n"
   ]
  },
  {
   "cell_type": "code",
   "execution_count": null,
   "id": "02c8453d",
   "metadata": {},
   "outputs": [],
   "source": [
    "# condition\n",
    "# counter\n",
    "# increment/decrement"
   ]
  },
  {
   "cell_type": "code",
   "execution_count": 8,
   "id": "7d77c3c8",
   "metadata": {},
   "outputs": [],
   "source": [
    "list_1 = ['192.168.0.1','192.168.0.2','192.168.0.3']\n",
    "list_2 = ['192.168.0.3','192.168.0.2', '192.168.0.1']"
   ]
  },
  {
   "cell_type": "code",
   "execution_count": 9,
   "id": "6b94b612",
   "metadata": {},
   "outputs": [
    {
     "name": "stdout",
     "output_type": "stream",
     "text": [
      "found\n",
      "found\n",
      "found\n"
     ]
    }
   ],
   "source": [
    "outer_counter = 0\n",
    "\n",
    "while outer_counter < 3:\n",
    "    ip_of_first_list = list_1[outer_counter]\n",
    "    \n",
    "    inner_counter = 0\n",
    "    while inner_counter<3:\n",
    "        if ip_of_first_list==list_2[inner_counter]:\n",
    "            print(\"found\")\n",
    "        \n",
    "        inner_counter = inner_counter + 1\n",
    "    \n",
    "    outer_counter = outer_counter + 1"
   ]
  },
  {
   "cell_type": "code",
   "execution_count": 10,
   "id": "cfc93e42",
   "metadata": {},
   "outputs": [
    {
     "name": "stdout",
     "output_type": "stream",
     "text": [
      "found\n",
      "found\n",
      "found\n"
     ]
    }
   ],
   "source": [
    "for item in list_1:\n",
    "    for thing in list_2:\n",
    "        if item == thing:\n",
    "            print(\"found\")"
   ]
  },
  {
   "cell_type": "code",
   "execution_count": 12,
   "id": "96bb317c",
   "metadata": {},
   "outputs": [
    {
     "name": "stdout",
     "output_type": "stream",
     "text": [
      "found\n",
      "found\n",
      "found\n"
     ]
    }
   ],
   "source": [
    "for index in range(3):\n",
    "    item_of_list_1 = list_1[index]\n",
    "    for index in range(3):\n",
    "        if item_of_list_1 == list_2[index]:\n",
    "            print(\"found\")"
   ]
  },
  {
   "cell_type": "code",
   "execution_count": 13,
   "id": "8ce10e65",
   "metadata": {},
   "outputs": [
    {
     "name": "stdout",
     "output_type": "stream",
     "text": [
      "found\n",
      "found\n",
      "found\n"
     ]
    }
   ],
   "source": [
    "for index in range(3):\n",
    "    if item_of_list_1 in list_2:\n",
    "        print(\"found\")"
   ]
  },
  {
   "cell_type": "markdown",
   "id": "a1820cd2",
   "metadata": {},
   "source": [
    "Write a program to find if the given point lies on the x-axis, y-axis or on the origin, given it’s coordinates. e.g: A point is shown like:(x-value, y-value, z-value) for example (12,56,78)"
   ]
  },
  {
   "cell_type": "code",
   "execution_count": 14,
   "id": "a106b850",
   "metadata": {},
   "outputs": [
    {
     "name": "stdout",
     "output_type": "stream",
     "text": [
      "Please ENter a Point having three axis: 25,56,78\n"
     ]
    }
   ],
   "source": [
    "point = input(\"Please ENter a Point having three axis: \")"
   ]
  },
  {
   "cell_type": "code",
   "execution_count": 15,
   "id": "f60c2973",
   "metadata": {},
   "outputs": [
    {
     "data": {
      "text/plain": [
       "'25,56,78'"
      ]
     },
     "execution_count": 15,
     "metadata": {},
     "output_type": "execute_result"
    }
   ],
   "source": [
    "point"
   ]
  },
  {
   "cell_type": "code",
   "execution_count": 17,
   "id": "edbdbdf8",
   "metadata": {},
   "outputs": [],
   "source": [
    "values = point.split(\",\")"
   ]
  },
  {
   "cell_type": "code",
   "execution_count": 22,
   "id": "cbcb3aed",
   "metadata": {},
   "outputs": [
    {
     "name": "stdout",
     "output_type": "stream",
     "text": [
      "0\n",
      "25\n",
      "25  lies on x-axis\n",
      "1\n",
      "56\n",
      "56  lies on y-axis\n",
      "2\n",
      "78\n",
      "78  lies on z-axis\n"
     ]
    }
   ],
   "source": [
    "for axis_index in range(len(values)):\n",
    "    print(axis_index)\n",
    "    axis_value = values[axis_index]\n",
    "    print(axis_value)\n",
    "    \n",
    "    if axis_index==0:\n",
    "        print(axis_value, \" lies on x-axis\")\n",
    "    elif axis_index==1:\n",
    "        print(axis_value, \" lies on y-axis\")\n",
    "    else:\n",
    "        print(axis_value, \" lies on z-axis\")"
   ]
  },
  {
   "cell_type": "code",
   "execution_count": null,
   "id": "716e92df",
   "metadata": {},
   "outputs": [],
   "source": []
  }
 ],
 "metadata": {
  "kernelspec": {
   "display_name": "Python 3 (ipykernel)",
   "language": "python",
   "name": "python3"
  },
  "language_info": {
   "codemirror_mode": {
    "name": "ipython",
    "version": 3
   },
   "file_extension": ".py",
   "mimetype": "text/x-python",
   "name": "python",
   "nbconvert_exporter": "python",
   "pygments_lexer": "ipython3",
   "version": "3.9.7"
  }
 },
 "nbformat": 4,
 "nbformat_minor": 5
}
